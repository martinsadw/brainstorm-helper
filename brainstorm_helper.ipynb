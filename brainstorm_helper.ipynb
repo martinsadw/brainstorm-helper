{
  "nbformat": 4,
  "nbformat_minor": 0,
  "metadata": {
    "colab": {
      "provenance": [],
      "collapsed_sections": [
        "JvqcIMHFotQ2",
        "5kAW7Lr_nzPF"
      ],
      "authorship_tag": "ABX9TyOaPWPcyeyDc08pcqvivsVG",
      "include_colab_link": true
    },
    "kernelspec": {
      "name": "python3",
      "display_name": "Python 3"
    },
    "language_info": {
      "name": "python"
    }
  },
  "cells": [
    {
      "cell_type": "markdown",
      "metadata": {
        "id": "view-in-github",
        "colab_type": "text"
      },
      "source": [
        "<a href=\"https://colab.research.google.com/github/martinsadw/brainstorm-helper/blob/main/brainstorm_helper.ipynb\" target=\"_parent\"><img src=\"https://colab.research.google.com/assets/colab-badge.svg\" alt=\"Open In Colab\"/></a>"
      ]
    },
    {
      "cell_type": "markdown",
      "source": [
        "**Caso apenas queira executar o modelo:**\n",
        "- Crie uma Chave de API [(link)](https://aistudio.google.com/app/apikey);\n",
        "- Adicione a chave à lista de secrets do Google Colab com o nome `GOOGLE_API_KEY`;\n",
        "- Habilite o acesso da chave pelo notebook;\n",
        "- Clique em `Ambiente de execução > Executar tudo` ou aperte `Ctrl + F9` e espera até o modelo ser instânciado."
      ],
      "metadata": {
        "id": "b8VJlMfqpdjH"
      }
    },
    {
      "cell_type": "markdown",
      "source": [
        "Índice\n",
        "- [Instruções de uso](#0-instructions-name): Explica como interagir com o modelo\n",
        "- [Funções auxiliares](#1-auxiliar-name): Define algumas funções extras para facilitar algumas taredas;\n",
        "- [Criar o modelo](#2-model-name): Cria e instancia o modelo especificando os parametros de configuração;\n",
        "- [Executar o modelo](#3-execute-name): Executa o modelo e solicita os prompts para interagir com o modelo. É aqui que a diversão começa. 👍"
      ],
      "metadata": {
        "id": "V7oMhdftscpc"
      }
    },
    {
      "cell_type": "markdown",
      "source": [
        "---"
      ],
      "metadata": {
        "id": "ss_O-ojmviy_"
      }
    },
    {
      "cell_type": "markdown",
      "source": [
        "<a name=\"0-instructions-name\"></a>\n",
        "# 0. Instruções de uso"
      ],
      "metadata": {
        "id": "0DFZx4dwu92v"
      }
    },
    {
      "cell_type": "markdown",
      "source": [
        "As interações com o modelo funcionam em três etapas: **Elaboração**, **Refinamento** e **Exploração** de ideias.  \n",
        "É possível digitar \"SAIR\" (sem aspas, em letras maiúsculas) a qualquer momento para encerrar a interação.\n",
        "\n",
        "### 1. Elaboração de ideias\n",
        "\n",
        "Na primeira etapa, tudo o que for enviado para o modelo será adicionado à lista de ideias. É possivel pedir para o modelo remover uma ideia caso tenha sido adicionada incorretamente. Quando terminar de adicionar as ideias diga \"Finalizar\" para processeguir para a próxima etapa.\n",
        "\n",
        "### 2. Refinamento de ideias\n",
        "\n",
        "Após finalizar a primeira etapa, o modelo irá sugerir novas ideias para expandir as ideias sugeridas originalmente. Em seguida o modelo irá resumir a lista em um conjunto reduzido de ideias. Ideias que sejam muito similares serão agregadas em um conjunto de tópicos mais amplos. O modelo seguirá automaticamente para a próxima etapa.\n",
        "\n",
        "### 3. Exploração de ideias\n",
        "\n",
        "Por fim, o modelo se disponibilizará a responder perguntas relacionadas as ideias propostas. Pode se pedir mais detalhes sobre algum dos itens, estimativas de custo para a execução das ideias, solicitar que o modelo crie um esboço de implementação das tarefas, entre outras ideias. Sua criatividade é o limite aqui.\n"
      ],
      "metadata": {
        "id": "oCLBX_ZOvCgw"
      }
    },
    {
      "cell_type": "markdown",
      "source": [
        "<a name=\"1-auxiliar-name\"></a>\n",
        "# 1. Funções auxiliares"
      ],
      "metadata": {
        "id": "JvqcIMHFotQ2"
      }
    },
    {
      "cell_type": "markdown",
      "source": [
        "Essas funções são utilizadas ao longo do código e são de um modo geral autoexplicativas pelo nome. Os detalhes podem ser ignorados caso queira apenas testar o modelo."
      ],
      "metadata": {
        "id": "z-HItnlPzHaH"
      }
    },
    {
      "cell_type": "code",
      "source": [
        "# Utilizado para imprimir os detalhes do modelo criado de maneira agradável\n",
        "def print_model(model):\n",
        "    print('Nome do modelo:', model.model_name, '\\n')\n",
        "    print('Parametros extras')\n",
        "    print('=================')\n",
        "    print('Temperatura:', model._generation_config['temperature'])\n",
        "    print('Top P:', model._generation_config['top_p'])\n",
        "    print('Top K:', model._generation_config['top_k'])\n",
        "    print('Número máximo de tokens:', model._generation_config['max_output_tokens'])\n",
        "    print('')\n",
        "    print('Instruções do Sistema')\n",
        "    print('=====================')\n",
        "    print(str(model._system_instruction.parts[0].text))"
      ],
      "metadata": {
        "id": "rgfmVHRJosYO"
      },
      "execution_count": 1,
      "outputs": []
    },
    {
      "cell_type": "code",
      "source": [
        "import time\n",
        "import random\n",
        "import logging\n",
        "from google.api_core.exceptions import TooManyRequests\n",
        "\n",
        "# Desabilita messagens de aviso que aparecem quando o erro `TooManyRequests` acontece para não poluir o terminal\n",
        "logging.getLogger('tornado.access').disabled = True\n",
        "\n",
        "# Tenta enviar uma mensagem tratando erro de limite de quota\n",
        "# Implementa a estratégia de Exponential Backoff com Jitter para retentar enviar uma mensagem\n",
        "def try_send_message(convo, message):\n",
        "    retries = 0\n",
        "    while True:\n",
        "        try:\n",
        "            convo.send_message(message)\n",
        "            return\n",
        "        except TooManyRequests as e:\n",
        "            if retries >= 5:\n",
        "                print('Número máximo de tentativas excedido.')\n",
        "                raise  # Dispara o erro novamente depois de 5 tentativas\n",
        "            print(f'Erro: Muitas requisições\\nTentando novamente {retries+1} / 5...')\n",
        "            wait_time = random.uniform(2 ** (retries + 1), 2 ** (retries + 2))\n",
        "            time.sleep(wait_time)\n",
        "            retries += 1"
      ],
      "metadata": {
        "id": "e8B5KHKapRhu"
      },
      "execution_count": 2,
      "outputs": []
    },
    {
      "cell_type": "markdown",
      "source": [
        "<a name=\"2-model-name\"></a>\n",
        "# 2. Criar o modelo"
      ],
      "metadata": {
        "id": "5kAW7Lr_nzPF"
      }
    },
    {
      "cell_type": "code",
      "execution_count": 3,
      "metadata": {
        "id": "G5g_PBANHuv4"
      },
      "outputs": [],
      "source": [
        "# Baixa e atualiza a biblioteca necessária\n",
        "!pip install -q -U google-generativeai"
      ]
    },
    {
      "cell_type": "code",
      "source": [
        "# Importa o Python SDK\n",
        "import google.generativeai as genai\n",
        "# Usado para obter a chave armazenada no Colab\n",
        "from google.colab import userdata\n",
        "\n",
        "# Obtem a chave armazenado com o nome 'GOOGLE_API_KEY' no Colab\n",
        "# Lembrar de clicar no botão de switch para liberar o acesso para o notebook\n",
        "GOOGLE_API_KEY=userdata.get('GOOGLE_API_KEY')\n",
        "genai.configure(api_key=GOOGLE_API_KEY)"
      ],
      "metadata": {
        "id": "96RRkS7BH_vr"
      },
      "execution_count": 4,
      "outputs": []
    },
    {
      "cell_type": "code",
      "source": [
        "# Define parametros do modelo\n",
        "generation_config = {\n",
        "    \"temperature\": 1,\n",
        "    \"top_p\": 0.95,\n",
        "    \"top_k\": 0,\n",
        "    \"max_output_tokens\": 8192,\n",
        "}"
      ],
      "metadata": {
        "id": "KyLabDfTLnmI"
      },
      "execution_count": 5,
      "outputs": []
    },
    {
      "cell_type": "code",
      "source": [
        "# Define as configurações de segurança\n",
        "safety_settings = [\n",
        "  {\n",
        "    \"category\": \"HARM_CATEGORY_HARASSMENT\",\n",
        "    \"threshold\": \"BLOCK_MEDIUM_AND_ABOVE\"\n",
        "  },\n",
        "  {\n",
        "    \"category\": \"HARM_CATEGORY_HATE_SPEECH\",\n",
        "    \"threshold\": \"BLOCK_MEDIUM_AND_ABOVE\"\n",
        "  },\n",
        "  {\n",
        "    \"category\": \"HARM_CATEGORY_SEXUALLY_EXPLICIT\",\n",
        "    \"threshold\": \"BLOCK_MEDIUM_AND_ABOVE\"\n",
        "  },\n",
        "  {\n",
        "    \"category\": \"HARM_CATEGORY_DANGEROUS_CONTENT\",\n",
        "    \"threshold\": \"BLOCK_MEDIUM_AND_ABOVE\"\n",
        "  },\n",
        "]"
      ],
      "metadata": {
        "id": "3uK0FkMkMEG6"
      },
      "execution_count": 6,
      "outputs": []
    },
    {
      "cell_type": "code",
      "source": [
        "# Define as instruções de sistema do modelo\n",
        "# system_instruction_old = 'Você irá auxiliar no processo de brainstorming de ideias.\\nEsse processo se dará em quatro etapas.\\nCaso o usuário peça, em qualquer etapa, um comando que não esteja descrito além dos especificadas para a respectiva etapa responda com \\\"Comando inválido\\\".\\n\\nEtapa 1: Lista de ideias\\n- Você irá receber frases com ideias a serem implementadas.\\n- A cada frase recebida, adicione essa frase em uma lista com todas as frases recebidas e imprima essa lista. Apenas adicione o cabeçalho \\\"Lista de ideias:\\\" e nada mais.\\n- Essa lista poderá ter quantos itens forem necessários, não interrompa a criação da lista.\\n- Quando o usuário disser que acabou a sessão de brainstorming, imprima uma ultima vez a lista de ideias e passe para a próxima etapa.\\n- Caso o usuário peça para remover alguma ideia especifica, remova ela da lista e imprima novamente a lista.\\n\\nEtapa 2: Sugestões Extras\\n- Quando a sessão de brainstorming acabar adicione uma nova lista de \\\"Sugestões Extras\\\".\\n- Essa lista conterá novas ideias relacionadas aos item adicionados anteriormente que serão sugeridos por você.\\n- Garanta que essa nova lista não seja muito grande, não tendo mais ideias do que a quantidade de ideias da primeira lista.\\n- Após imprimir a lista mova para a próxima etapa.\\n\\nEtapa 3: Consolidação de Ideias\\n- Modifique a lista inicial e as sugestões extras de modo a agregar ideias que sejam muito similares.\\n- Essa lista poderá conter mais de uma ideia caso sejam suficientemente distintas.\\n- Imprima um lista de \\\"Ideias Principais\\\" contendo apenas as ideias que passarem por esse filtro.\\n- Após imprimir a lista de ideias principais, mova para a próxima etapa.\\n\\nEtapa 4: Auxilio para a execução das ideias\\n- Comece dizendo \\\"Estou a disposição para dar sugestões de como executar essas ideias\\\".\\n- Responda a novas solicitações relacionadas as ideias propostas, dando dicas de como executar as ideias, adicionando mais detalhes as ideias quando necessário ou respondendo perguntas relacionadas as ideias.\\n- Mantenha a lista de \\\"Ideias Principais\\\" como o foco do restante da conversa.\\n- Não é mais necessário responder com \\\"Comando inválido\\\".'\n",
        "system_instruction = \"Você irá auxiliar no processo de brainstorming de ideias.\\nEsse processo se dará em quatro etapas.\\n\\nEtapa 1: Lista de ideias\\n- Você irá receber frases com ideias a serem implementadas.\\n- A cada frase recebida, adicione essa frase em uma lista com todas as frases recebidas e imprima essa lista. Apenas adicione o cabeçalho \\\"Lista de ideias:\\\" e nada mais.\\n- Essa lista poderá ter quantos itens forem necessários, não interrompa a criação da lista.\\n- Quando o usuário disser algum termo como \\\"acabou\\\", \\\"encerrar\\\", \\\"finalizar\\\" ou outros termos similares, encerre a sessão de brainstorming, imprima uma ultima vez a lista de ideias e passe para a próxima etapa.\\n- Quando o usuário disser algum termo como \\\"remover\\\" seguido de alguma instrução apontando para algumas das ideias na lista, remova a ideia da lista e imprima novamente a lista.\\n- Qualquer outra frase deve ser interpretado como uma ideia a ser adicionado à lista\\n\\nEtapa 2: Sugestões Extras\\n- Quando a sessão de brainstorming acabar adicione uma nova lista de \\\"Sugestões Extras\\\".\\n- Essa lista conterá novas ideias relacionadas aos item adicionados anteriormente que serão sugeridos por você.\\n- Garanta que essa nova lista não seja muito grande, não tendo mais ideias do que a quantidade de ideias da primeira lista.\\n- Após imprimir as Sugestões Extras, mova para a próxima etapa.\\n\\nEtapa 3: Consolidação de Ideias\\n- Modifique a lista inicial e as sugestões extras de modo a agregar ideias que sejam muito similares.\\n- Essa lista poderá conter mais de uma ideia caso sejam suficientemente distintas.\\n- Imprima um lista de \\\"Ideias Principais\\\" contendo apenas as ideias que passarem por esse filtro.\\n- Após imprimir a lista de Ideias Principais, mova para a próxima etapa.\\n\\nEtapa 4: Auxilio para a execução das ideias\\n- Comece dizendo \\\"Estou a disposição para dar sugestões de como executar essas ideias\\\".\\n- Responda a novas solicitações relacionadas as ideias propostas, dando dicas de como executar as ideias, adicionando mais detalhes as ideias quando necessário ou respondendo perguntas relacionadas as ideias.\\n- Mantenha a lista de \\\"Ideias Principais\\\" como o foco do restante da conversa.\\n\""
      ],
      "metadata": {
        "id": "Vhe4Y-kS4hb5"
      },
      "execution_count": 11,
      "outputs": []
    },
    {
      "cell_type": "code",
      "source": [
        "# Instancia o modelo com as configurações especificadas\n",
        "model = genai.GenerativeModel(model_name=\"gemini-1.5-pro-latest\",\n",
        "                              generation_config=generation_config,\n",
        "                              system_instruction=system_instruction,\n",
        "                              safety_settings=safety_settings)"
      ],
      "metadata": {
        "id": "z0A9pNWYI3pw"
      },
      "execution_count": 12,
      "outputs": []
    },
    {
      "cell_type": "markdown",
      "source": [
        "<a name=\"3-execute-name\"></a>\n",
        "# 3. Executar o modelo"
      ],
      "metadata": {
        "id": "3pUFdsTqpZnt"
      }
    },
    {
      "cell_type": "markdown",
      "source": [
        "Estes são os detalhes do modelo usado aqui. As Intruções do Sistema podem ser consultadas caso tenha curiosidade de entender quais foram as regras definidas para o modelo."
      ],
      "metadata": {
        "id": "T8hXmHZv0DfD"
      }
    },
    {
      "cell_type": "code",
      "source": [
        "print_model(model)"
      ],
      "metadata": {
        "colab": {
          "base_uri": "https://localhost:8080/"
        },
        "id": "ow_Hu1BWfrYM",
        "outputId": "e1d90aaa-bd18-4772-cde6-c469541a721a"
      },
      "execution_count": 13,
      "outputs": [
        {
          "output_type": "stream",
          "name": "stdout",
          "text": [
            "Nome do modelo: models/gemini-1.5-pro-latest \n",
            "\n",
            "Parametros extras\n",
            "=================\n",
            "Temperatura: 1\n",
            "Top P: 0.95\n",
            "Top K: 0\n",
            "Número máximo de tokens: 8192\n",
            "\n",
            "Instruções do Sistema\n",
            "=====================\n",
            "Você irá auxiliar no processo de brainstorming de ideias.\n",
            "Esse processo se dará em quatro etapas.\n",
            "\n",
            "Etapa 1: Lista de ideias\n",
            "- Você irá receber frases com ideias a serem implementadas.\n",
            "- A cada frase recebida, adicione essa frase em uma lista com todas as frases recebidas e imprima essa lista. Apenas adicione o cabeçalho \"Lista de ideias:\" e nada mais.\n",
            "- Essa lista poderá ter quantos itens forem necessários, não interrompa a criação da lista.\n",
            "- Quando o usuário disser algum termo como \"acabou\", \"encerrar\", \"finalizar\" ou outros termos similares, encerre a sessão de brainstorming, imprima uma ultima vez a lista de ideias e passe para a próxima etapa.\n",
            "- Quando o usuário disser algum termo como \"remover\" seguido de alguma instrução apontando para algumas das ideias na lista, remova a ideia da lista e imprima novamente a lista.\n",
            "- Qualquer outra frase deve ser interpretado como uma ideia a ser adicionado à lista\n",
            "\n",
            "Etapa 2: Sugestões Extras\n",
            "- Quando a sessão de brainstorming acabar adicione uma nova lista de \"Sugestões Extras\".\n",
            "- Essa lista conterá novas ideias relacionadas aos item adicionados anteriormente que serão sugeridos por você.\n",
            "- Garanta que essa nova lista não seja muito grande, não tendo mais ideias do que a quantidade de ideias da primeira lista.\n",
            "- Após imprimir as Sugestões Extras, mova para a próxima etapa.\n",
            "\n",
            "Etapa 3: Consolidação de Ideias\n",
            "- Modifique a lista inicial e as sugestões extras de modo a agregar ideias que sejam muito similares.\n",
            "- Essa lista poderá conter mais de uma ideia caso sejam suficientemente distintas.\n",
            "- Imprima um lista de \"Ideias Principais\" contendo apenas as ideias que passarem por esse filtro.\n",
            "- Após imprimir a lista de Ideias Principais, mova para a próxima etapa.\n",
            "\n",
            "Etapa 4: Auxilio para a execução das ideias\n",
            "- Comece dizendo \"Estou a disposição para dar sugestões de como executar essas ideias\".\n",
            "- Responda a novas solicitações relacionadas as ideias propostas, dando dicas de como executar as ideias, adicionando mais detalhes as ideias quando necessário ou respondendo perguntas relacionadas as ideias.\n",
            "- Mantenha a lista de \"Ideias Principais\" como o foco do restante da conversa.\n",
            "\n"
          ]
        }
      ]
    },
    {
      "cell_type": "markdown",
      "source": [
        "Algumas sugestões de ideias para serem adicionadas a Lista de Ideias caso queira apenas testar o modelo:\n",
        "- Criar um modelo para auxiliar em um brainstorming\n",
        "- Criar um site para organizar tarefas\n",
        "- Permitir adicionar membros e atribuir esse membros às tarefas\n",
        "- Permitir criar grupos de trabalho\n",
        "- Criar um modelo para organizar reuniões"
      ],
      "metadata": {
        "id": "0sIDwautnjS7"
      }
    },
    {
      "cell_type": "markdown",
      "source": [
        "Leia as [Instruções de uso](#0-instructions-name) para entender como interagir com o modelo"
      ],
      "metadata": {
        "id": "fNrukXn1061N"
      }
    },
    {
      "cell_type": "code",
      "source": [
        "from IPython.display import clear_output\n",
        "\n",
        "convo = model.start_chat(history=[])\n",
        "end_msg = 'SAIR'\n",
        "prompt_msg = f'Digite \"{end_msg}\" para encerrar\\nPrompt: '\n",
        "\n",
        "prompt = input(prompt_msg)\n",
        "while prompt != end_msg:\n",
        "    try_send_message(convo, prompt)\n",
        "    clear_output()\n",
        "    print(convo.last.text)\n",
        "    prompt = input(prompt_msg)\n",
        "    print('Processando...\\n')"
      ],
      "metadata": {
        "colab": {
          "base_uri": "https://localhost:8080/",
          "height": 243
        },
        "id": "4jsO34vwI4ok",
        "outputId": "3acf5cde-e35a-427c-91b2-ff00193928a5"
      },
      "execution_count": 14,
      "outputs": [
        {
          "output_type": "stream",
          "name": "stdout",
          "text": [
            "Lista de ideias:\n",
            "- Criar um modelo para auxiliar em um brainstorming \n",
            "- Criar um site para organizar tarefas \n",
            "- Permitir adicionar membros e atribuir esse membros às tarefas \n",
            "- Permitir criar grupos de trabalho \n",
            "- Criar um modelo para organizar reuniões \n",
            "\n",
            "Sugestões Extras:\n",
            "- No modelo para auxiliar em brainstormings, adicione uma ferramenta para votação das ideias\n",
            "- No site para organizar tarefas, adicione um sistema de notificações para avisar sobre deadlines ou novas tarefas \n",
            "- Permita que os usuários criem modelos personalizados para organizar reuniões \n",
            "- Adicione uma agenda compartilhada para os membros dos grupos de trabalho \n",
            "- Crie um sistema de recompensas para os membros mais produtivos \n",
            "\n",
            "Ideias Principais:\n",
            "- Criar uma plataforma online para auxiliar na organização e produtividade de equipes, com ferramentas para brainstorming, gestão de tarefas, criação de grupos de trabalho e organização de reuniões. \n",
            "\n",
            "Estou a disposição para dar sugestões de como executar essas ideias \n",
            "\n",
            "Digite \"SAIR\" para encerrar\n",
            "Prompt: SAIR\n",
            "Processando...\n",
            "\n"
          ]
        }
      ]
    }
  ]
}